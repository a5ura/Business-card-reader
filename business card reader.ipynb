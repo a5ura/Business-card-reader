{
 "cells": [
  {
   "cell_type": "code",
   "execution_count": 2,
   "metadata": {},
   "outputs": [
    {
     "name": "stdout",
     "output_type": "stream",
     "text": [
      "Extracted Emails: ['jim@jimsgraphics.com']\n",
      "Extracted Phone Numbers: ['999-999-9999']\n",
      "Information extracted and saved to 'extracted_info.txt'.\n"
     ]
    }
   ],
   "source": [
    "import cv2\n",
    "import pytesseract\n",
    "import re\n",
    "\n",
    "# Ensure Tesseract is in your PATH or specify the pytesseract path like so:\n",
    "# pytesseract.pytesseract.tesseract_cmd = r'<full_path_to_your_tesseract_executable>'\n",
    "\n",
    "def preprocess_image(image_path):\n",
    "    \"\"\"Preprocess the image for better OCR results.\"\"\"\n",
    "    image = cv2.imread(image_path)\n",
    "    gray = cv2.cvtColor(image, cv2.COLOR_BGR2GRAY)\n",
    "    # Applying filtering and thresholding to make the image binary\n",
    "    blur = cv2.GaussianBlur(gray, (5,5), 0)\n",
    "    thresh = cv2.threshold(blur, 0, 255, cv2.THRESH_BINARY + cv2.THRESH_OTSU)[1]\n",
    "    return thresh\n",
    "\n",
    "def extract_text(image):\n",
    "    \"\"\"Extract text from the preprocessed image using Tesseract OCR.\"\"\"\n",
    "    # Using Tesseract to convert image into string\n",
    "    text = pytesseract.image_to_string(image, lang='eng')\n",
    "    return text\n",
    "\n",
    "def extract_information(text):\n",
    "    \"\"\"Parse the extracted text to identify names, phone numbers, and email addresses.\"\"\"\n",
    "    # Regular expressions for finding emails and phone numbers\n",
    "    email_regex = r'\\b[A-Za-z0-9._%+-]+@[A-Za-z0-9.-]+\\.[A-Z|a-z]{2,}\\b'\n",
    "    phone_regex = r'\\+?\\d[\\d -]{8,}\\d'\n",
    "\n",
    "    emails = re.findall(email_regex, text)\n",
    "    phones = re.findall(phone_regex, text)\n",
    "\n",
    "    print(\"Extracted Emails:\", emails)\n",
    "    print(\"Extracted Phone Numbers:\", phones)\n",
    "\n",
    "    # For names and other details, you might need specific patterns or post-processing\n",
    "    # Here we simply return the text for further analysis\n",
    "    return emails, phones, text\n",
    "\n",
    "def main(image_path):\n",
    "    preprocessed_image = preprocess_image(image_path)\n",
    "    extracted_text = extract_text(preprocessed_image)\n",
    "    emails, phones, text = extract_information(extracted_text)\n",
    "\n",
    "    # Optionally, save the extracted information to a file\n",
    "    with open('extracted_info.txt', 'w') as file:\n",
    "        file.write(\"Extracted Emails:\\n\")\n",
    "        file.write(\"\\n\".join(emails))\n",
    "        file.write(\"\\nExtracted Phone Numbers:\\n\")\n",
    "        file.write(\"\\n\".join(phones))\n",
    "        file.write(\"\\n\\nFull Extracted Text:\\n\")\n",
    "        file.write(text)\n",
    "\n",
    "    print(\"Information extracted and saved to 'extracted_info.txt'.\")\n",
    "\n",
    "# Replace the path below with the path to your business card image\n",
    "image_path = 'image path'\n",
    "main(image_path)\n"
   ]
  }
 ],
 "metadata": {
  "kernelspec": {
   "display_name": "Python 3",
   "language": "python",
   "name": "python3"
  },
  "language_info": {
   "codemirror_mode": {
    "name": "ipython",
    "version": 3
   },
   "file_extension": ".py",
   "mimetype": "text/x-python",
   "name": "python",
   "nbconvert_exporter": "python",
   "pygments_lexer": "ipython3",
   "version": "3.8.3"
  }
 },
 "nbformat": 4,
 "nbformat_minor": 2
}
